{
 "cells": [
  {
   "cell_type": "markdown",
   "metadata": {},
   "source": [
    "# Analyse de l'expérience"
   ]
  },
  {
   "cell_type": "code",
   "execution_count": null,
   "metadata": {},
   "outputs": [],
   "source": [
    "import matplotlib.pyplot as plt\n",
    "\n",
    "import math\n",
    "import numpy as np\n",
    "import pandas as pd\n",
    "import sys"
   ]
  },
  {
   "cell_type": "markdown",
   "metadata": {},
   "source": [
    "### Fonction courbe d'expérience"
   ]
  },
  {
   "cell_type": "code",
   "execution_count": null,
   "metadata": {},
   "outputs": [],
   "source": [
    "def lvlXpOverlord(lvl):\n",
    "    i = 1\n",
    "    xp = []\n",
    "    lv = []\n",
    "    xpLvl = [100, 200, 500, 1000, 2000, 4000, 8000]\n",
    "    currentXp = 0\n",
    "    while(i <= lvl):\n",
    "        if i < 15 : \n",
    "            currentXp += xpLvl[0]\n",
    "            xp.append(currentXp)\n",
    "        elif i < 30 : \n",
    "            currentXp += xpLvl[1]\n",
    "            xp.append(currentXp)\n",
    "        elif i < 45 : \n",
    "            currentXp += xpLvl[2]\n",
    "            xp.append(currentXp)\n",
    "        elif i < 60 : \n",
    "            currentXp += xpLvl[3]\n",
    "            xp.append(currentXp)\n",
    "        elif i < 75 : \n",
    "            currentXp += xpLvl[4]\n",
    "            xp.append(currentXp)\n",
    "        elif i < 90 : \n",
    "            currentXp += xpLvl[5]\n",
    "            xp.append(currentXp)\n",
    "        else: \n",
    "            currentXp += xpLvl[6]\n",
    "            xp.append(currentXp)\n",
    "        lv.append(i)\n",
    "        i += 1\n",
    "    return xp, lv\n",
    "\n",
    "def lvlXpLinear(lvl):\n",
    "    i = 1\n",
    "    xp = []\n",
    "    lv = []\n",
    "    while(i <= lvl):\n",
    "        xp.append(round(i * math.log(40) * 100))\n",
    "        lv.append(i)\n",
    "        i += 1\n",
    "    return xp, lv\n",
    "\n",
    "\n",
    "def lvlXpExp(lvl):\n",
    "    i = 1\n",
    "    xp = []\n",
    "    lv = []\n",
    "    while(i <= lvl):\n",
    "        xp.append(round(i * 100 * math.exp(i / 100)))\n",
    "        lv.append(i)\n",
    "        i += 1\n",
    "    return xp, lv\n",
    "\n",
    "def lvlXpExp2(lvl):\n",
    "    i = 1\n",
    "    xp = []\n",
    "    lv = []\n",
    "    y = 100\n",
    "    while(i <= lvl):\n",
    "        xp.append(round(y + i + (i * 5 * 1.3) ))\n",
    "        lv.append(i)\n",
    "        y = y + i + (i * 5 * 1.3)\n",
    "        i += 1\n",
    "    return xp, lv\n",
    "\n"
   ]
  },
  {
   "cell_type": "markdown",
   "metadata": {},
   "source": [
    "### Fonction analyse gain d'experience"
   ]
  },
  {
   "cell_type": "code",
   "execution_count": 2,
   "metadata": {},
   "outputs": [
    {
     "ename": "SyntaxError",
     "evalue": "unexpected EOF while parsing (1485379145.py, line 36)",
     "output_type": "error",
     "traceback": [
      "\u001b[0;36m  Input \u001b[0;32mIn [2]\u001b[0;36m\u001b[0m\n\u001b[0;31m    \u001b[0m\n\u001b[0m    ^\u001b[0m\n\u001b[0;31mSyntaxError\u001b[0m\u001b[0;31m:\u001b[0m unexpected EOF while parsing\n"
     ]
    }
   ],
   "source": [
    "def calculXpGainByLvDiff(xpGain, lvl, zoneLvl):\n",
    "    i = 1\n",
    "    xp = []\n",
    "    lv = []\n",
    "    while(i < lvl):\n",
    "        xp.append(max(0, round(xpGain + ( xpGain  * (zoneLvl + (i / 15) - i)) * 1.5 * math.exp(i / 100)) ))\n",
    "        lv.append(i)\n",
    "        i += 1\n",
    "    return xp, lv\n",
    "\n",
    "def calculXpGainByLvDiffVsPlayer(xpGain, lvlMax, deadLvl):\n",
    "    i = 1\n",
    "    xp = []\n",
    "    lv = []\n",
    "    xpGain /= 1000\n",
    "    while(i < lvlMax):\n",
    "        xp.append(max(0, round(( xpGain  * (deadLvl + (i / 4) - i)) * math.exp(i / 100)) ))\n",
    "        lv.append(i)\n",
    "        i += 1\n",
    "    return xp, lv\n",
    "\n",
    "\n",
    "# def calculXpGainByLvlPerMessage(xpGain, lvl):\n",
    "#     i = 1\n",
    "#     xp = []\n",
    "#     lv = []\n",
    "#     # y + x + (x * 5 * 1.3)\n",
    "#     while(i < lvl):\n",
    "#         xp.append(max(0, round(xpGain + ( xpGain  * (zoneLvl + (i / 4) - i)) * 1.5 * math.exp(i / 100)) ))\n",
    "#         lv.append(i)\n",
    "#         i += 1\n",
    "#     return xp, lv\n",
    "\n",
    "\n",
    "def gainStatByLvl(lvl):\n",
    "\n",
    "    i = 1\n",
    "    hp = 50\n",
    "    magie = 40\n",
    "    attaque = 20\n",
    "    armure = 0\n",
    "    while(i < lvl):\n",
    "        hp += 10 * i * 1\n"
   ]
  },
  {
   "cell_type": "markdown",
   "metadata": {},
   "source": [
    "### Affichage des fonctions d'expérience"
   ]
  },
  {
   "cell_type": "code",
   "execution_count": null,
   "metadata": {},
   "outputs": [],
   "source": [
    "xpOverlord, lvlOverlord = lvlXpOverlord(100)\n",
    "xpLinear, lvlLinear = lvlXpLinear(100)\n",
    "xpExp, lvlExp = lvlXpExp(100)\n",
    "xpExp2, lvlExp2 = lvlXpExp2(100)\n",
    "\n",
    "i = 0\n",
    "print(\"actuel \\t\\t\\t linéaire \\t\\t exponentielle #1 \\t exponentielle #2\")\n",
    "print(\"__________________________________________________________________________________________\")\n",
    "while i < 100:\n",
    "    print(\"lvl : \" + str(lvlOverlord[i]) + \" = \" + str(xpOverlord[i]) + \"\\t|\\t\" + \"lvl : \" + str(lvlLinear[i]) + \" = \" + str(xpLinear[i]) + \"\\t|\\t\" + \"lvl : \" + str(lvlExp[i]) + \" = \" + str(xpExp[i]) + \"\\t|\\t\" + \"lvl : \" + str(lvlExp2[i]) + \" = \" + str(xpExp2[i]))\n",
    "    i+=1"
   ]
  },
  {
   "cell_type": "code",
   "execution_count": null,
   "metadata": {},
   "outputs": [],
   "source": [
    "fig, axs = plt.subplots(2,2,figsize=(7,7))\n",
    "fig.suptitle(\"courbe d'experience\")\n",
    "axs[0,0].set_title(\"système actuel\")\n",
    "axs[0,1].set_title(\"système exponentielle #1\")\n",
    "axs[1,0].set_title(\"système linéaire\")\n",
    "axs[1,1].set_title(\"système exponentielle #2\")\n",
    "axs[0,0].plot(lvlOverlord, xpOverlord)\n",
    "axs[0,1].plot(lvlExp, xpExp)\n",
    "axs[1,0].plot(lvlLinear, xpLinear)\n",
    "axs[1,1].plot(lvlExp2, xpExp2)\n",
    "plt.subplots_adjust(left=0.1, bottom=0.1, right=0.9, top=0.9, wspace=0.4, hspace=0.2)"
   ]
  },
  {
   "cell_type": "code",
   "execution_count": null,
   "metadata": {},
   "outputs": [],
   "source": [
    "plt.plot(lvlExp2, xpExp2)\n",
    "plt.xlabel('lvl')\n",
    "plt.ylabel('xp')\n",
    "plt.show()"
   ]
  },
  {
   "cell_type": "markdown",
   "metadata": {},
   "source": [
    "### Affichage fonction d'analyse de gain "
   ]
  },
  {
   "cell_type": "code",
   "execution_count": null,
   "metadata": {},
   "outputs": [],
   "source": [
    "xpGain, lvlGain = calculXpGainByLvDiff(15,100,20)\n",
    "xpGain1, lvlGain1 = calculXpGainByLvDiff(15,100,100)\n",
    "xpGain2, lvlGain2 = calculXpGainByLvDiffVsPlayer(37975,100,100)\n",
    "i = 0\n",
    "print(\"15 xp, lvlMob : 20 \\t 30xp, lvlMob : 25 \\t 100xp, lvlMob : 40\")\n",
    "print(\"_______________________________________________________________\")\n",
    "while i < 99:\n",
    "    print(\"lvl : \" + str(lvlGain[i]) + \" = \" + str(xpGain[i]) + \"\\t | \\t\" + \"lvl : \" + str(lvlGain1[i]) + \" = \" + str(xpGain1[i]) + \"\\t | \\t\" + \"lvl : \" + str(lvlGain2[i]) + \" = \" + str(xpGain2[i]) + \"\\t | \\t\"  )\n",
    "    i +=1"
   ]
  },
  {
   "cell_type": "code",
   "execution_count": null,
   "metadata": {},
   "outputs": [],
   "source": [
    "plt.plot(lvlGain, xpGain, \"red\", lvlGain1, xpGain1, \"blue\", lvlGain2, xpGain2, \"green\")\n",
    "plt.xlabel('lvl')\n",
    "plt.ylabel('xp')\n",
    "plt.show()"
   ]
  }
 ],
 "metadata": {
  "interpreter": {
   "hash": "5708405226ef7d26b3c5152f8519f00b9e12c8c826c932d4d305c436f0ebb64e"
  },
  "kernelspec": {
   "display_name": "Python 3.8.10 ('PleiadeEnv')",
   "language": "python",
   "name": "python3"
  },
  "language_info": {
   "codemirror_mode": {
    "name": "ipython",
    "version": 3
   },
   "file_extension": ".py",
   "mimetype": "text/x-python",
   "name": "python",
   "nbconvert_exporter": "python",
   "pygments_lexer": "ipython3",
   "version": "3.8.13"
  },
  "orig_nbformat": 4
 },
 "nbformat": 4,
 "nbformat_minor": 2
}
