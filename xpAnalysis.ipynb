{
 "cells": [
  {
   "cell_type": "markdown",
   "metadata": {},
   "source": [
    "# Analyse de l'expérience"
   ]
  },
  {
   "cell_type": "code",
   "execution_count": 1,
   "metadata": {},
   "outputs": [],
   "source": [
    "import matplotlib.pyplot as plt\n",
    "\n",
    "import math\n",
    "import numpy as np\n",
    "import pandas as pd\n",
    "import sys"
   ]
  },
  {
   "cell_type": "markdown",
   "metadata": {},
   "source": [
    "### Fonction courbe d'expérience"
   ]
  },
  {
   "cell_type": "code",
   "execution_count": 2,
   "metadata": {},
   "outputs": [],
   "source": [
    "def lvlXpOverlord(lvl):\n",
    "    i = 1\n",
    "    xp = []\n",
    "    lv = []\n",
    "    xpLvl = [100, 200, 500, 1000, 2000, 4000, 8000]\n",
    "    currentXp = 0\n",
    "    while(i <= lvl):\n",
    "        if i < 15 : \n",
    "            currentXp += xpLvl[0]\n",
    "            xp.append(currentXp)\n",
    "        elif i < 30 : \n",
    "            currentXp += xpLvl[1]\n",
    "            xp.append(currentXp)\n",
    "        elif i < 45 : \n",
    "            currentXp += xpLvl[2]\n",
    "            xp.append(currentXp)\n",
    "        elif i < 60 : \n",
    "            currentXp += xpLvl[3]\n",
    "            xp.append(currentXp)\n",
    "        elif i < 75 : \n",
    "            currentXp += xpLvl[4]\n",
    "            xp.append(currentXp)\n",
    "        elif i < 90 : \n",
    "            currentXp += xpLvl[5]\n",
    "            xp.append(currentXp)\n",
    "        else: \n",
    "            currentXp += xpLvl[6]\n",
    "            xp.append(currentXp)\n",
    "        lv.append(i)\n",
    "        i += 1\n",
    "    return xp, lv\n",
    "\n",
    "def lvlXpLinear(lvl):\n",
    "    i = 1\n",
    "    xp = []\n",
    "    lv = []\n",
    "    while(i <= lvl):\n",
    "        xp.append(round(i * math.log(40) * 100))\n",
    "        lv.append(i)\n",
    "        i += 1\n",
    "    return xp, lv\n",
    "\n",
    "\n",
    "def lvlXpExp(lvl):\n",
    "    i = 1\n",
    "    xp = []\n",
    "    lv = []\n",
    "    while(i <= lvl):\n",
    "        xp.append(round(i * 100 * math.exp(i / 100)))\n",
    "        lv.append(i)\n",
    "        i += 1\n",
    "    return xp, lv\n",
    "\n",
    "def lvlXpExp2(lvl):\n",
    "    i = 1\n",
    "    xp = []\n",
    "    lv = []\n",
    "    y = 100\n",
    "    while(i <= lvl):\n",
    "        xp.append(round(y + i + (i * 5 * 1.3) ))\n",
    "        lv.append(i)\n",
    "        y = y + i + (i * 5 * 1.3)\n",
    "        i += 1\n",
    "    return xp, lv\n",
    "\n"
   ]
  },
  {
   "cell_type": "markdown",
   "metadata": {},
   "source": [
    "### Fonction analyse gain d'experience"
   ]
  },
  {
   "cell_type": "code",
   "execution_count": 3,
   "metadata": {},
   "outputs": [],
   "source": [
    "def calculXpGainByLvDiff(xpGain, lvl, zoneLvl):\n",
    "    i = 1\n",
    "    xp = []\n",
    "    lv = []\n",
    "    while(i < lvl):\n",
    "        xp.append(max(0, round(xpGain + ( xpGain  * (zoneLvl + (i / 15) - i)) * 1.5 * math.exp(i / 100)) ))\n",
    "        lv.append(i)\n",
    "        i += 1\n",
    "    return xp, lv\n",
    "\n",
    "def calculXpGainByLvDiffVsPlayer(xpGain, lvlMax, deadLvl):\n",
    "    i = 1\n",
    "    xp = []\n",
    "    lv = []\n",
    "    xpGain /= 1000\n",
    "    while(i < lvlMax):\n",
    "        xp.append(max(0, round(( xpGain  * (deadLvl + (i / 4) - i)) * math.exp(i / 100)) ))\n",
    "        lv.append(i)\n",
    "        i += 1\n",
    "    return xp, lv\n",
    "\n",
    "\n",
    "# def calculXpGainByLvlPerMessage(xpGain, lvl):\n",
    "#     i = 1\n",
    "#     xp = []\n",
    "#     lv = []\n",
    "#     # y + x + (x * 5 * 1.3)\n",
    "#     while(i < lvl):\n",
    "#         xp.append(max(0, round(xpGain + ( xpGain  * (zoneLvl + (i / 4) - i)) * 1.5 * math.exp(i / 100)) ))\n",
    "#         lv.append(i)\n",
    "#         i += 1\n",
    "#     return xp, lv"
   ]
  },
  {
   "cell_type": "markdown",
   "metadata": {},
   "source": [
    "### Affichage des fonctions d'expérience"
   ]
  },
  {
   "cell_type": "code",
   "execution_count": 4,
   "metadata": {},
   "outputs": [
    {
     "name": "stdout",
     "output_type": "stream",
     "text": [
      "actuel \t\t\t linéaire \t\t exponentielle #1 \t exponentielle #2\n",
      "__________________________________________________________________________________________\n",
      "lvl : 1 = 100\t|\tlvl : 1 = 369\t|\tlvl : 1 = 101\t|\tlvl : 1 = 108\n",
      "lvl : 2 = 200\t|\tlvl : 2 = 738\t|\tlvl : 2 = 204\t|\tlvl : 2 = 122\n",
      "lvl : 3 = 300\t|\tlvl : 3 = 1107\t|\tlvl : 3 = 309\t|\tlvl : 3 = 145\n",
      "lvl : 4 = 400\t|\tlvl : 4 = 1476\t|\tlvl : 4 = 416\t|\tlvl : 4 = 175\n",
      "lvl : 5 = 500\t|\tlvl : 5 = 1844\t|\tlvl : 5 = 526\t|\tlvl : 5 = 212\n",
      "lvl : 6 = 600\t|\tlvl : 6 = 2213\t|\tlvl : 6 = 637\t|\tlvl : 6 = 258\n",
      "lvl : 7 = 700\t|\tlvl : 7 = 2582\t|\tlvl : 7 = 751\t|\tlvl : 7 = 310\n",
      "lvl : 8 = 800\t|\tlvl : 8 = 2951\t|\tlvl : 8 = 867\t|\tlvl : 8 = 370\n",
      "lvl : 9 = 900\t|\tlvl : 9 = 3320\t|\tlvl : 9 = 985\t|\tlvl : 9 = 438\n",
      "lvl : 10 = 1000\t|\tlvl : 10 = 3689\t|\tlvl : 10 = 1105\t|\tlvl : 10 = 512\n",
      "lvl : 11 = 1100\t|\tlvl : 11 = 4058\t|\tlvl : 11 = 1228\t|\tlvl : 11 = 595\n",
      "lvl : 12 = 1200\t|\tlvl : 12 = 4427\t|\tlvl : 12 = 1353\t|\tlvl : 12 = 685\n",
      "lvl : 13 = 1300\t|\tlvl : 13 = 4796\t|\tlvl : 13 = 1480\t|\tlvl : 13 = 782\n",
      "lvl : 14 = 1400\t|\tlvl : 14 = 5164\t|\tlvl : 14 = 1610\t|\tlvl : 14 = 888\n",
      "lvl : 15 = 1600\t|\tlvl : 15 = 5533\t|\tlvl : 15 = 1743\t|\tlvl : 15 = 1000\n",
      "lvl : 16 = 1800\t|\tlvl : 16 = 5902\t|\tlvl : 16 = 1878\t|\tlvl : 16 = 1120\n",
      "lvl : 17 = 2000\t|\tlvl : 17 = 6271\t|\tlvl : 17 = 2015\t|\tlvl : 17 = 1248\n",
      "lvl : 18 = 2200\t|\tlvl : 18 = 6640\t|\tlvl : 18 = 2155\t|\tlvl : 18 = 1382\n",
      "lvl : 19 = 2400\t|\tlvl : 19 = 7009\t|\tlvl : 19 = 2298\t|\tlvl : 19 = 1525\n",
      "lvl : 20 = 2600\t|\tlvl : 20 = 7378\t|\tlvl : 20 = 2443\t|\tlvl : 20 = 1675\n",
      "lvl : 21 = 2800\t|\tlvl : 21 = 7747\t|\tlvl : 21 = 2591\t|\tlvl : 21 = 1832\n",
      "lvl : 22 = 3000\t|\tlvl : 22 = 8116\t|\tlvl : 22 = 2741\t|\tlvl : 22 = 1998\n",
      "lvl : 23 = 3200\t|\tlvl : 23 = 8484\t|\tlvl : 23 = 2895\t|\tlvl : 23 = 2170\n",
      "lvl : 24 = 3400\t|\tlvl : 24 = 8853\t|\tlvl : 24 = 3051\t|\tlvl : 24 = 2350\n",
      "lvl : 25 = 3600\t|\tlvl : 25 = 9222\t|\tlvl : 25 = 3210\t|\tlvl : 25 = 2538\n",
      "lvl : 26 = 3800\t|\tlvl : 26 = 9591\t|\tlvl : 26 = 3372\t|\tlvl : 26 = 2732\n",
      "lvl : 27 = 4000\t|\tlvl : 27 = 9960\t|\tlvl : 27 = 3537\t|\tlvl : 27 = 2935\n",
      "lvl : 28 = 4200\t|\tlvl : 28 = 10329\t|\tlvl : 28 = 3705\t|\tlvl : 28 = 3145\n",
      "lvl : 29 = 4400\t|\tlvl : 29 = 10698\t|\tlvl : 29 = 3876\t|\tlvl : 29 = 3362\n",
      "lvl : 30 = 4900\t|\tlvl : 30 = 11067\t|\tlvl : 30 = 4050\t|\tlvl : 30 = 3588\n",
      "lvl : 31 = 5400\t|\tlvl : 31 = 11436\t|\tlvl : 31 = 4227\t|\tlvl : 31 = 3820\n",
      "lvl : 32 = 5900\t|\tlvl : 32 = 11804\t|\tlvl : 32 = 4407\t|\tlvl : 32 = 4060\n",
      "lvl : 33 = 6400\t|\tlvl : 33 = 12173\t|\tlvl : 33 = 4590\t|\tlvl : 33 = 4308\n",
      "lvl : 34 = 6900\t|\tlvl : 34 = 12542\t|\tlvl : 34 = 4777\t|\tlvl : 34 = 4562\n",
      "lvl : 35 = 7400\t|\tlvl : 35 = 12911\t|\tlvl : 35 = 4967\t|\tlvl : 35 = 4825\n",
      "lvl : 36 = 7900\t|\tlvl : 36 = 13280\t|\tlvl : 36 = 5160\t|\tlvl : 36 = 5095\n",
      "lvl : 37 = 8400\t|\tlvl : 37 = 13649\t|\tlvl : 37 = 5357\t|\tlvl : 37 = 5372\n",
      "lvl : 38 = 8900\t|\tlvl : 38 = 14018\t|\tlvl : 38 = 5557\t|\tlvl : 38 = 5658\n",
      "lvl : 39 = 9400\t|\tlvl : 39 = 14387\t|\tlvl : 39 = 5760\t|\tlvl : 39 = 5950\n",
      "lvl : 40 = 9900\t|\tlvl : 40 = 14756\t|\tlvl : 40 = 5967\t|\tlvl : 40 = 6250\n",
      "lvl : 41 = 10400\t|\tlvl : 41 = 15124\t|\tlvl : 41 = 6178\t|\tlvl : 41 = 6558\n",
      "lvl : 42 = 10900\t|\tlvl : 42 = 15493\t|\tlvl : 42 = 6392\t|\tlvl : 42 = 6872\n",
      "lvl : 43 = 11400\t|\tlvl : 43 = 15862\t|\tlvl : 43 = 6610\t|\tlvl : 43 = 7195\n",
      "lvl : 44 = 11900\t|\tlvl : 44 = 16231\t|\tlvl : 44 = 6832\t|\tlvl : 44 = 7525\n",
      "lvl : 45 = 12900\t|\tlvl : 45 = 16600\t|\tlvl : 45 = 7057\t|\tlvl : 45 = 7862\n",
      "lvl : 46 = 13900\t|\tlvl : 46 = 16969\t|\tlvl : 46 = 7287\t|\tlvl : 46 = 8208\n",
      "lvl : 47 = 14900\t|\tlvl : 47 = 17338\t|\tlvl : 47 = 7520\t|\tlvl : 47 = 8560\n",
      "lvl : 48 = 15900\t|\tlvl : 48 = 17707\t|\tlvl : 48 = 7757\t|\tlvl : 48 = 8920\n",
      "lvl : 49 = 16900\t|\tlvl : 49 = 18076\t|\tlvl : 49 = 7998\t|\tlvl : 49 = 9288\n",
      "lvl : 50 = 17900\t|\tlvl : 50 = 18444\t|\tlvl : 50 = 8244\t|\tlvl : 50 = 9662\n",
      "lvl : 51 = 18900\t|\tlvl : 51 = 18813\t|\tlvl : 51 = 8493\t|\tlvl : 51 = 10045\n",
      "lvl : 52 = 19900\t|\tlvl : 52 = 19182\t|\tlvl : 52 = 8747\t|\tlvl : 52 = 10435\n",
      "lvl : 53 = 20900\t|\tlvl : 53 = 19551\t|\tlvl : 53 = 9004\t|\tlvl : 53 = 10832\n",
      "lvl : 54 = 21900\t|\tlvl : 54 = 19920\t|\tlvl : 54 = 9266\t|\tlvl : 54 = 11238\n",
      "lvl : 55 = 22900\t|\tlvl : 55 = 20289\t|\tlvl : 55 = 9533\t|\tlvl : 55 = 11650\n",
      "lvl : 56 = 23900\t|\tlvl : 56 = 20658\t|\tlvl : 56 = 9804\t|\tlvl : 56 = 12070\n",
      "lvl : 57 = 24900\t|\tlvl : 57 = 21027\t|\tlvl : 57 = 10079\t|\tlvl : 57 = 12498\n",
      "lvl : 58 = 25900\t|\tlvl : 58 = 21396\t|\tlvl : 58 = 10359\t|\tlvl : 58 = 12932\n",
      "lvl : 59 = 26900\t|\tlvl : 59 = 21764\t|\tlvl : 59 = 10644\t|\tlvl : 59 = 13375\n",
      "lvl : 60 = 28900\t|\tlvl : 60 = 22133\t|\tlvl : 60 = 10933\t|\tlvl : 60 = 13825\n",
      "lvl : 61 = 30900\t|\tlvl : 61 = 22502\t|\tlvl : 61 = 11227\t|\tlvl : 61 = 14282\n",
      "lvl : 62 = 32900\t|\tlvl : 62 = 22871\t|\tlvl : 62 = 11525\t|\tlvl : 62 = 14748\n",
      "lvl : 63 = 34900\t|\tlvl : 63 = 23240\t|\tlvl : 63 = 11829\t|\tlvl : 63 = 15220\n",
      "lvl : 64 = 36900\t|\tlvl : 64 = 23609\t|\tlvl : 64 = 12137\t|\tlvl : 64 = 15700\n",
      "lvl : 65 = 38900\t|\tlvl : 65 = 23978\t|\tlvl : 65 = 12451\t|\tlvl : 65 = 16188\n",
      "lvl : 66 = 40900\t|\tlvl : 66 = 24347\t|\tlvl : 66 = 12770\t|\tlvl : 66 = 16682\n",
      "lvl : 67 = 42900\t|\tlvl : 67 = 24715\t|\tlvl : 67 = 13093\t|\tlvl : 67 = 17185\n",
      "lvl : 68 = 44900\t|\tlvl : 68 = 25084\t|\tlvl : 68 = 13422\t|\tlvl : 68 = 17695\n",
      "lvl : 69 = 46900\t|\tlvl : 69 = 25453\t|\tlvl : 69 = 13757\t|\tlvl : 69 = 18212\n",
      "lvl : 70 = 48900\t|\tlvl : 70 = 25822\t|\tlvl : 70 = 14096\t|\tlvl : 70 = 18738\n",
      "lvl : 71 = 50900\t|\tlvl : 71 = 26191\t|\tlvl : 71 = 14441\t|\tlvl : 71 = 19270\n",
      "lvl : 72 = 52900\t|\tlvl : 72 = 26560\t|\tlvl : 72 = 14792\t|\tlvl : 72 = 19810\n",
      "lvl : 73 = 54900\t|\tlvl : 73 = 26929\t|\tlvl : 73 = 15148\t|\tlvl : 73 = 20358\n",
      "lvl : 74 = 56900\t|\tlvl : 74 = 27298\t|\tlvl : 74 = 15510\t|\tlvl : 74 = 20912\n",
      "lvl : 75 = 60900\t|\tlvl : 75 = 27667\t|\tlvl : 75 = 15878\t|\tlvl : 75 = 21475\n",
      "lvl : 76 = 64900\t|\tlvl : 76 = 28035\t|\tlvl : 76 = 16251\t|\tlvl : 76 = 22045\n",
      "lvl : 77 = 68900\t|\tlvl : 77 = 28404\t|\tlvl : 77 = 16630\t|\tlvl : 77 = 22622\n",
      "lvl : 78 = 72900\t|\tlvl : 78 = 28773\t|\tlvl : 78 = 17015\t|\tlvl : 78 = 23208\n",
      "lvl : 79 = 76900\t|\tlvl : 79 = 29142\t|\tlvl : 79 = 17407\t|\tlvl : 79 = 23800\n",
      "lvl : 80 = 80900\t|\tlvl : 80 = 29511\t|\tlvl : 80 = 17804\t|\tlvl : 80 = 24400\n",
      "lvl : 81 = 84900\t|\tlvl : 81 = 29880\t|\tlvl : 81 = 18208\t|\tlvl : 81 = 25008\n",
      "lvl : 82 = 88900\t|\tlvl : 82 = 30249\t|\tlvl : 82 = 18618\t|\tlvl : 82 = 25622\n",
      "lvl : 83 = 92900\t|\tlvl : 83 = 30618\t|\tlvl : 83 = 19035\t|\tlvl : 83 = 26245\n",
      "lvl : 84 = 96900\t|\tlvl : 84 = 30987\t|\tlvl : 84 = 19457\t|\tlvl : 84 = 26875\n",
      "lvl : 85 = 100900\t|\tlvl : 85 = 31355\t|\tlvl : 85 = 19887\t|\tlvl : 85 = 27512\n",
      "lvl : 86 = 104900\t|\tlvl : 86 = 31724\t|\tlvl : 86 = 20323\t|\tlvl : 86 = 28158\n",
      "lvl : 87 = 108900\t|\tlvl : 87 = 32093\t|\tlvl : 87 = 20766\t|\tlvl : 87 = 28810\n",
      "lvl : 88 = 112900\t|\tlvl : 88 = 32462\t|\tlvl : 88 = 21216\t|\tlvl : 88 = 29470\n",
      "lvl : 89 = 116900\t|\tlvl : 89 = 32831\t|\tlvl : 89 = 21673\t|\tlvl : 89 = 30138\n",
      "lvl : 90 = 124900\t|\tlvl : 90 = 33200\t|\tlvl : 90 = 22136\t|\tlvl : 90 = 30812\n",
      "lvl : 91 = 132900\t|\tlvl : 91 = 33569\t|\tlvl : 91 = 22607\t|\tlvl : 91 = 31495\n",
      "lvl : 92 = 140900\t|\tlvl : 92 = 33938\t|\tlvl : 92 = 23085\t|\tlvl : 92 = 32185\n",
      "lvl : 93 = 148900\t|\tlvl : 93 = 34307\t|\tlvl : 93 = 23571\t|\tlvl : 93 = 32882\n",
      "lvl : 94 = 156900\t|\tlvl : 94 = 34675\t|\tlvl : 94 = 24064\t|\tlvl : 94 = 33588\n",
      "lvl : 95 = 164900\t|\tlvl : 95 = 35044\t|\tlvl : 95 = 24564\t|\tlvl : 95 = 34300\n",
      "lvl : 96 = 172900\t|\tlvl : 96 = 35413\t|\tlvl : 96 = 25072\t|\tlvl : 96 = 35020\n",
      "lvl : 97 = 180900\t|\tlvl : 97 = 35782\t|\tlvl : 97 = 25588\t|\tlvl : 97 = 35748\n",
      "lvl : 98 = 188900\t|\tlvl : 98 = 36151\t|\tlvl : 98 = 26112\t|\tlvl : 98 = 36482\n",
      "lvl : 99 = 196900\t|\tlvl : 99 = 36520\t|\tlvl : 99 = 26643\t|\tlvl : 99 = 37225\n",
      "lvl : 100 = 204900\t|\tlvl : 100 = 36889\t|\tlvl : 100 = 27183\t|\tlvl : 100 = 37975\n"
     ]
    }
   ],
   "source": [
    "xpOverlord, lvlOverlord = lvlXpOverlord(100)\n",
    "xpLinear, lvlLinear = lvlXpLinear(100)\n",
    "xpExp, lvlExp = lvlXpExp(100)\n",
    "xpExp2, lvlExp2 = lvlXpExp2(100)\n",
    "\n",
    "i = 0\n",
    "print(\"actuel \\t\\t\\t linéaire \\t\\t exponentielle #1 \\t exponentielle #2\")\n",
    "print(\"__________________________________________________________________________________________\")\n",
    "while i < 100:\n",
    "    print(\"lvl : \" + str(lvlOverlord[i]) + \" = \" + str(xpOverlord[i]) + \"\\t|\\t\" + \"lvl : \" + str(lvlLinear[i]) + \" = \" + str(xpLinear[i]) + \"\\t|\\t\" + \"lvl : \" + str(lvlExp[i]) + \" = \" + str(xpExp[i]) + \"\\t|\\t\" + \"lvl : \" + str(lvlExp2[i]) + \" = \" + str(xpExp2[i]))\n",
    "    i+=1"
   ]
  },
  {
   "cell_type": "code",
   "execution_count": 5,
   "metadata": {},
   "outputs": [
    {
     "data": {
      "image/png": "[encoded data removed]",
      "text/plain": [
       "<Figure size 504x504 with 4 Axes>"
      ]
     },
     "metadata": {
      "needs_background": "light"
     },
     "output_type": "display_data"
    }
   ],
   "source": [
    "fig, axs = plt.subplots(2,2,figsize=(7,7))\n",
    "fig.suptitle(\"courbe d'experience\")\n",
    "axs[0,0].set_title(\"système actuel\")\n",
    "axs[0,1].set_title(\"système exponentielle #1\")\n",
    "axs[1,0].set_title(\"système linéaire\")\n",
    "axs[1,1].set_title(\"système exponentielle #2\")\n",
    "axs[0,0].plot(lvlOverlord, xpOverlord)\n",
    "axs[0,1].plot(lvlExp, xpExp)\n",
    "axs[1,0].plot(lvlLinear, xpLinear)\n",
    "axs[1,1].plot(lvlExp2, xpExp2)\n",
    "plt.subplots_adjust(left=0.1, bottom=0.1, right=0.9, top=0.9, wspace=0.4, hspace=0.2)"
   ]
  },
  {
   "cell_type": "code",
   "execution_count": 9,
   "metadata": {},
   "outputs": [
    {
     "data": {
      "image/png": "[encoded data removed]",
      "text/plain": [
       "<Figure size 432x288 with 1 Axes>"
      ]
     },
     "metadata": {
      "needs_background": "light"
     },
     "output_type": "display_data"
    }
   ],
   "source": [
    "plt.plot(lvlExp2, xpExp2)\n",
    "plt.xlabel('lvl')\n",
    "plt.ylabel('xp')\n",
    "plt.show()"
   ]
  },
  {
   "cell_type": "markdown",
   "metadata": {},
   "source": [
    "### Affichage fonction d'analyse de gain "
   ]
  },
  {
   "cell_type": "code",
   "execution_count": 7,
   "metadata": {},
   "outputs": [
    {
     "name": "stdout",
     "output_type": "stream",
     "text": [
      "15 xp, lvlMob : 20 \t 30xp, lvlMob : 25 \t 100xp, lvlMob : 40\n",
      "_______________________________________________________________\n",
      "lvl : 1 = 448\t | \tlvl : 1 = 2266\t | \tlvl : 1 = 3807\t | \t\n",
      "lvl : 2 = 431\t | \tlvl : 2 = 2268\t | \tlvl : 2 = 3816\t | \t\n",
      "lvl : 3 = 414\t | \tlvl : 3 = 2269\t | \tlvl : 3 = 3825\t | \t\n",
      "lvl : 4 = 396\t | \tlvl : 4 = 2269\t | \tlvl : 4 = 3834\t | \t\n",
      "lvl : 5 = 378\t | \tlvl : 5 = 2270\t | \tlvl : 5 = 3842\t | \t\n",
      "lvl : 6 = 359\t | \tlvl : 6 = 2270\t | \tlvl : 6 = 3851\t | \t\n",
      "lvl : 7 = 340\t | \tlvl : 7 = 2270\t | \tlvl : 7 = 3859\t | \t\n",
      "lvl : 8 = 320\t | \tlvl : 8 = 2270\t | \tlvl : 8 = 3867\t | \t\n",
      "lvl : 9 = 301\t | \tlvl : 9 = 2270\t | \tlvl : 9 = 3875\t | \t\n",
      "lvl : 10 = 280\t | \tlvl : 10 = 2270\t | \tlvl : 10 = 3882\t | \t\n",
      "lvl : 11 = 259\t | \tlvl : 11 = 2269\t | \tlvl : 11 = 3889\t | \t\n",
      "lvl : 12 = 238\t | \tlvl : 12 = 2268\t | \tlvl : 12 = 3896\t | \t\n",
      "lvl : 13 = 217\t | \tlvl : 13 = 2266\t | \tlvl : 13 = 3903\t | \t\n",
      "lvl : 14 = 194\t | \tlvl : 14 = 2265\t | \tlvl : 14 = 3910\t | \t\n",
      "lvl : 15 = 172\t | \tlvl : 15 = 2263\t | \tlvl : 15 = 3916\t | \t\n",
      "lvl : 16 = 149\t | \tlvl : 16 = 2261\t | \tlvl : 16 = 3922\t | \t\n",
      "lvl : 17 = 125\t | \tlvl : 17 = 2259\t | \tlvl : 17 = 3927\t | \t\n",
      "lvl : 18 = 101\t | \tlvl : 18 = 2256\t | \tlvl : 18 = 3933\t | \t\n",
      "lvl : 19 = 77\t | \tlvl : 19 = 2253\t | \tlvl : 19 = 3938\t | \t\n",
      "lvl : 20 = 52\t | \tlvl : 20 = 2250\t | \tlvl : 20 = 3943\t | \t\n",
      "lvl : 21 = 26\t | \tlvl : 21 = 2247\t | \tlvl : 21 = 3947\t | \t\n",
      "lvl : 22 = 0\t | \tlvl : 22 = 2243\t | \tlvl : 22 = 3951\t | \t\n",
      "lvl : 23 = 0\t | \tlvl : 23 = 2239\t | \tlvl : 23 = 3955\t | \t\n",
      "lvl : 24 = 0\t | \tlvl : 24 = 2235\t | \tlvl : 24 = 3959\t | \t\n",
      "lvl : 25 = 0\t | \tlvl : 25 = 2230\t | \tlvl : 25 = 3962\t | \t\n",
      "lvl : 26 = 0\t | \tlvl : 26 = 2225\t | \tlvl : 26 = 3965\t | \t\n",
      "lvl : 27 = 0\t | \tlvl : 27 = 2220\t | \tlvl : 27 = 3967\t | \t\n",
      "lvl : 28 = 0\t | \tlvl : 28 = 2214\t | \tlvl : 28 = 3969\t | \t\n",
      "lvl : 29 = 0\t | \tlvl : 29 = 2208\t | \tlvl : 29 = 3971\t | \t\n",
      "lvl : 30 = 0\t | \tlvl : 30 = 2202\t | \tlvl : 30 = 3973\t | \t\n",
      "lvl : 31 = 0\t | \tlvl : 31 = 2195\t | \tlvl : 31 = 3974\t | \t\n",
      "lvl : 32 = 0\t | \tlvl : 32 = 2188\t | \tlvl : 32 = 3975\t | \t\n",
      "lvl : 33 = 0\t | \tlvl : 33 = 2181\t | \tlvl : 33 = 3975\t | \t\n",
      "lvl : 34 = 0\t | \tlvl : 34 = 2173\t | \tlvl : 34 = 3975\t | \t\n",
      "lvl : 35 = 0\t | \tlvl : 35 = 2165\t | \tlvl : 35 = 3974\t | \t\n",
      "lvl : 36 = 0\t | \tlvl : 36 = 2156\t | \tlvl : 36 = 3973\t | \t\n",
      "lvl : 37 = 0\t | \tlvl : 37 = 2148\t | \tlvl : 37 = 3972\t | \t\n",
      "lvl : 38 = 0\t | \tlvl : 38 = 2138\t | \tlvl : 38 = 3970\t | \t\n",
      "lvl : 39 = 0\t | \tlvl : 39 = 2129\t | \tlvl : 39 = 3968\t | \t\n",
      "lvl : 40 = 0\t | \tlvl : 40 = 2118\t | \tlvl : 40 = 3966\t | \t\n",
      "lvl : 41 = 0\t | \tlvl : 41 = 2108\t | \tlvl : 41 = 3963\t | \t\n",
      "lvl : 42 = 0\t | \tlvl : 42 = 2097\t | \tlvl : 42 = 3959\t | \t\n",
      "lvl : 43 = 0\t | \tlvl : 43 = 2086\t | \tlvl : 43 = 3955\t | \t\n",
      "lvl : 44 = 0\t | \tlvl : 44 = 2074\t | \tlvl : 44 = 3951\t | \t\n",
      "lvl : 45 = 0\t | \tlvl : 45 = 2062\t | \tlvl : 45 = 3946\t | \t\n",
      "lvl : 46 = 0\t | \tlvl : 46 = 2049\t | \tlvl : 46 = 3940\t | \t\n",
      "lvl : 47 = 0\t | \tlvl : 47 = 2036\t | \tlvl : 47 = 3934\t | \t\n",
      "lvl : 48 = 0\t | \tlvl : 48 = 2022\t | \tlvl : 48 = 3928\t | \t\n",
      "lvl : 49 = 0\t | \tlvl : 49 = 2008\t | \tlvl : 49 = 3921\t | \t\n",
      "lvl : 50 = 0\t | \tlvl : 50 = 1993\t | \tlvl : 50 = 3913\t | \t\n",
      "lvl : 51 = 0\t | \tlvl : 51 = 1978\t | \tlvl : 51 = 3905\t | \t\n",
      "lvl : 52 = 0\t | \tlvl : 52 = 1963\t | \tlvl : 52 = 3896\t | \t\n",
      "lvl : 53 = 0\t | \tlvl : 53 = 1947\t | \tlvl : 53 = 3887\t | \t\n",
      "lvl : 54 = 0\t | \tlvl : 54 = 1930\t | \tlvl : 54 = 3877\t | \t\n",
      "lvl : 55 = 0\t | \tlvl : 55 = 1913\t | \tlvl : 55 = 3867\t | \t\n",
      "lvl : 56 = 0\t | \tlvl : 56 = 1895\t | \tlvl : 56 = 3856\t | \t\n",
      "lvl : 57 = 0\t | \tlvl : 57 = 1877\t | \tlvl : 57 = 3844\t | \t\n",
      "lvl : 58 = 0\t | \tlvl : 58 = 1858\t | \tlvl : 58 = 3832\t | \t\n",
      "lvl : 59 = 0\t | \tlvl : 59 = 1839\t | \tlvl : 59 = 3819\t | \t\n",
      "lvl : 60 = 0\t | \tlvl : 60 = 1819\t | \tlvl : 60 = 3806\t | \t\n",
      "lvl : 61 = 0\t | \tlvl : 61 = 1798\t | \tlvl : 61 = 3792\t | \t\n",
      "lvl : 62 = 0\t | \tlvl : 62 = 1777\t | \tlvl : 62 = 3777\t | \t\n",
      "lvl : 63 = 0\t | \tlvl : 63 = 1756\t | \tlvl : 63 = 3761\t | \t\n",
      "lvl : 64 = 0\t | \tlvl : 64 = 1733\t | \tlvl : 64 = 3745\t | \t\n",
      "lvl : 65 = 0\t | \tlvl : 65 = 1710\t | \tlvl : 65 = 3728\t | \t\n",
      "lvl : 66 = 0\t | \tlvl : 66 = 1687\t | \tlvl : 66 = 3710\t | \t\n",
      "lvl : 67 = 0\t | \tlvl : 67 = 1662\t | \tlvl : 67 = 3692\t | \t\n",
      "lvl : 68 = 0\t | \tlvl : 68 = 1638\t | \tlvl : 68 = 3673\t | \t\n",
      "lvl : 69 = 0\t | \tlvl : 69 = 1612\t | \tlvl : 69 = 3653\t | \t\n",
      "lvl : 70 = 0\t | \tlvl : 70 = 1586\t | \tlvl : 70 = 3632\t | \t\n",
      "lvl : 71 = 0\t | \tlvl : 71 = 1559\t | \tlvl : 71 = 3611\t | \t\n",
      "lvl : 72 = 0\t | \tlvl : 72 = 1531\t | \tlvl : 72 = 3589\t | \t\n",
      "lvl : 73 = 0\t | \tlvl : 73 = 1503\t | \tlvl : 73 = 3566\t | \t\n",
      "lvl : 74 = 0\t | \tlvl : 74 = 1474\t | \tlvl : 74 = 3542\t | \t\n",
      "lvl : 75 = 0\t | \tlvl : 75 = 1444\t | \tlvl : 75 = 3517\t | \t\n",
      "lvl : 76 = 0\t | \tlvl : 76 = 1413\t | \tlvl : 76 = 3492\t | \t\n",
      "lvl : 77 = 0\t | \tlvl : 77 = 1382\t | \tlvl : 77 = 3465\t | \t\n",
      "lvl : 78 = 0\t | \tlvl : 78 = 1350\t | \tlvl : 78 = 3438\t | \t\n",
      "lvl : 79 = 0\t | \tlvl : 79 = 1317\t | \tlvl : 79 = 3410\t | \t\n",
      "lvl : 80 = 0\t | \tlvl : 80 = 1284\t | \tlvl : 80 = 3381\t | \t\n",
      "lvl : 81 = 0\t | \tlvl : 81 = 1249\t | \tlvl : 81 = 3351\t | \t\n",
      "lvl : 82 = 0\t | \tlvl : 82 = 1214\t | \tlvl : 82 = 3320\t | \t\n",
      "lvl : 83 = 0\t | \tlvl : 83 = 1178\t | \tlvl : 83 = 3288\t | \t\n",
      "lvl : 84 = 0\t | \tlvl : 84 = 1141\t | \tlvl : 84 = 3255\t | \t\n",
      "lvl : 85 = 0\t | \tlvl : 85 = 1103\t | \tlvl : 85 = 3221\t | \t\n",
      "lvl : 86 = 0\t | \tlvl : 86 = 1064\t | \tlvl : 86 = 3186\t | \t\n",
      "lvl : 87 = 0\t | \tlvl : 87 = 1025\t | \tlvl : 87 = 3150\t | \t\n",
      "lvl : 88 = 0\t | \tlvl : 88 = 984\t | \tlvl : 88 = 3113\t | \t\n",
      "lvl : 89 = 0\t | \tlvl : 89 = 943\t | \tlvl : 89 = 3075\t | \t\n",
      "lvl : 90 = 0\t | \tlvl : 90 = 900\t | \tlvl : 90 = 3036\t | \t\n",
      "lvl : 91 = 0\t | \tlvl : 91 = 857\t | \tlvl : 91 = 2995\t | \t\n",
      "lvl : 92 = 0\t | \tlvl : 92 = 813\t | \tlvl : 92 = 2954\t | \t\n",
      "lvl : 93 = 0\t | \tlvl : 93 = 768\t | \tlvl : 93 = 2912\t | \t\n",
      "lvl : 94 = 0\t | \tlvl : 94 = 722\t | \tlvl : 94 = 2868\t | \t\n",
      "lvl : 95 = 0\t | \tlvl : 95 = 674\t | \tlvl : 95 = 2823\t | \t\n",
      "lvl : 96 = 0\t | \tlvl : 96 = 626\t | \tlvl : 96 = 2777\t | \t\n",
      "lvl : 97 = 0\t | \tlvl : 97 = 577\t | \tlvl : 97 = 2730\t | \t\n",
      "lvl : 98 = 0\t | \tlvl : 98 = 527\t | \tlvl : 98 = 2681\t | \t\n",
      "lvl : 99 = 0\t | \tlvl : 99 = 475\t | \tlvl : 99 = 2632\t | \t\n"
     ]
    }
   ],
   "source": [
    "xpGain, lvlGain = calculXpGainByLvDiff(15,100,20)\n",
    "xpGain1, lvlGain1 = calculXpGainByLvDiff(15,100,100)\n",
    "xpGain2, lvlGain2 = calculXpGainByLvDiffVsPlayer(37975,100,100)\n",
    "i = 0\n",
    "print(\"15 xp, lvlMob : 20 \\t 30xp, lvlMob : 25 \\t 100xp, lvlMob : 40\")\n",
    "print(\"_______________________________________________________________\")\n",
    "while i < 99:\n",
    "    print(\"lvl : \" + str(lvlGain[i]) + \" = \" + str(xpGain[i]) + \"\\t | \\t\" + \"lvl : \" + str(lvlGain1[i]) + \" = \" + str(xpGain1[i]) + \"\\t | \\t\" + \"lvl : \" + str(lvlGain2[i]) + \" = \" + str(xpGain2[i]) + \"\\t | \\t\"  )\n",
    "    i +=1"
   ]
  },
  {
   "cell_type": "code",
   "execution_count": 8,
   "metadata": {},
   "outputs": [
    {
     "data": {
      "image/png": "[encoded data removed]",
      "text/plain": [
       "<Figure size 432x288 with 1 Axes>"
      ]
     },
     "metadata": {
      "needs_background": "light"
     },
     "output_type": "display_data"
    }
   ],
   "source": [
    "plt.plot(lvlGain, xpGain, \"red\", lvlGain1, xpGain1, \"blue\", lvlGain2, xpGain2, \"green\")\n",
    "plt.xlabel('lvl')\n",
    "plt.ylabel('xp')\n",
    "plt.show()"
   ]
  }
 ],
 "metadata": {
  "interpreter": {
   "hash": "5708405226ef7d26b3c5152f8519f00b9e12c8c826c932d4d305c436f0ebb64e"
  },
  "kernelspec": {
   "display_name": "Python 3.8.10 ('PleiadeEnv')",
   "language": "python",
   "name": "python3"
  },
  "language_info": {
   "codemirror_mode": {
    "name": "ipython",
    "version": 3
   },
   "file_extension": ".py",
   "mimetype": "text/x-python",
   "name": "python",
   "nbconvert_exporter": "python",
   "pygments_lexer": "ipython3",
   "version": "3.8.13"
  },
  "orig_nbformat": 4
 },
 "nbformat": 4,
 "nbformat_minor": 2
}
